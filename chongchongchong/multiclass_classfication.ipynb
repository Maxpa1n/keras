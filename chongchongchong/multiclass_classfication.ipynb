{
 "cells": [
  {
   "cell_type": "code",
   "execution_count": 54,
   "metadata": {},
   "outputs": [],
   "source": [
    "from keras.datasets import reuters\n",
    "import numpy as np\n",
    "import keras\n",
    "from keras.utils import to_categorical\n",
    "from keras import layers\n",
    "from keras import models\n",
    "import matplotlib.pyplot as plt\n",
    "import copy"
   ]
  },
  {
   "cell_type": "code",
   "execution_count": 2,
   "metadata": {},
   "outputs": [],
   "source": [
    "(train_data,train_label),(test_data,test_label) = reuters.load_data(num_words=10000)"
   ]
  },
  {
   "cell_type": "code",
   "execution_count": 3,
   "metadata": {},
   "outputs": [
    {
     "name": "stdout",
     "output_type": "stream",
     "text": [
      "8982\n",
      "8982\n",
      "(8982,)\n",
      "(8982,)\n",
      "4\n",
      "[1, 3267, 699, 3434, 2295, 56, 2, 7511, 9, 56, 3906, 1073, 81, 5, 1198, 57, 366, 737, 132, 20, 4093, 7, 2, 49, 2295, 2, 1037, 3267, 699, 3434, 8, 7, 10, 241, 16, 855, 129, 231, 783, 5, 4, 587, 2295, 2, 2, 775, 7, 48, 34, 191, 44, 35, 1795, 505, 17, 12]\n"
     ]
    }
   ],
   "source": [
    "a = (train_data,train_label)\n",
    "print(len(train_data))\n",
    "print(len(train_label))\n",
    "print(train_data.shape)\n",
    "print(train_label.shape)\n",
    "print(train_label[1])\n",
    "print(train_data[1])"
   ]
  },
  {
   "cell_type": "code",
   "execution_count": 4,
   "metadata": {},
   "outputs": [
    {
     "name": "stdout",
     "output_type": "stream",
     "text": [
      "30979\n",
      "<class 'dict'>\n",
      "11780\n",
      "<class 'dict_items'>\n"
     ]
    }
   ],
   "source": [
    "word_index = reuters.get_word_index()\n",
    "print(len(word_index))\n",
    "print(type(word_index))\n",
    "print(word_index['innovation'])\n",
    "# print(word_index.items())\n",
    "print(type(word_index.items()))\n"
   ]
  },
  {
   "cell_type": "code",
   "execution_count": 5,
   "metadata": {},
   "outputs": [
    {
     "name": "stdout",
     "output_type": "stream",
     "text": [
      "<class 'dict'>\n",
      "the\n"
     ]
    }
   ],
   "source": [
    "reverse_word_index = dict([(value,key) for (key , value) in word_index.items()])\n",
    "print(type(reverse_word_index))\n",
    "print(reverse_word_index[1])"
   ]
  },
  {
   "cell_type": "code",
   "execution_count": 6,
   "metadata": {
    "scrolled": true
   },
   "outputs": [],
   "source": [
    "decoded_newswire = ' '.join([reverse_word_index.get(i-3,'?') for i in train_data[0]])\n",
    "decoded_newswire1 = ' '.join([reverse_word_index.get(i-3,'?') for i in train_data[1]])\n"
   ]
  },
  {
   "cell_type": "code",
   "execution_count": 7,
   "metadata": {},
   "outputs": [],
   "source": [
    "def vectorize_sequences(sequences, dimension=10000):\n",
    "    results = np.zeros((len(sequences), dimension))\n",
    "    print(results.shape)\n",
    "    print(results.ndim)\n",
    " \n",
    "    for i,sequence in enumerate(sequences):\n",
    "#         print(sequence)   \n",
    "#         print(i)\n",
    "        results[i, sequence] = 1.\n",
    "    return results\n"
   ]
  },
  {
   "cell_type": "code",
   "execution_count": 8,
   "metadata": {},
   "outputs": [
    {
     "name": "stdout",
     "output_type": "stream",
     "text": [
      "(8982, 10000)\n",
      "2\n",
      "(2246, 10000)\n",
      "2\n"
     ]
    }
   ],
   "source": [
    "x_train = vectorize_sequences(train_data)\n",
    "x_test = vectorize_sequences(test_data)\n",
    "\n"
   ]
  },
  {
   "cell_type": "code",
   "execution_count": 9,
   "metadata": {},
   "outputs": [
    {
     "name": "stdout",
     "output_type": "stream",
     "text": [
      "(8982, 10000)\n",
      "1.0\n",
      "(10000,)\n"
     ]
    }
   ],
   "source": [
    "print(x_train.shape)\n",
    "print(x_test[0][270])\n",
    "print(x_test[0].shape)"
   ]
  },
  {
   "cell_type": "code",
   "execution_count": 10,
   "metadata": {},
   "outputs": [
    {
     "name": "stdout",
     "output_type": "stream",
     "text": [
      "[0. 0. 0. 0. 0. 1. 1. 1. 0. 0.]\n"
     ]
    }
   ],
   "source": [
    "re = np.zeros((10,10))\n",
    "re[0][[7,6,5]] = 1\n",
    "print(re[0])"
   ]
  },
  {
   "cell_type": "code",
   "execution_count": 11,
   "metadata": {},
   "outputs": [],
   "source": [
    "def to_one_hot(labels, dimension=46):\n",
    "    results = np.zeros((len(labels), dimension))\n",
    "    for i,label in enumerate(labels):\n",
    "        results[i, label] = 1.\n",
    "    return results\n",
    "        "
   ]
  },
  {
   "cell_type": "code",
   "execution_count": 12,
   "metadata": {},
   "outputs": [],
   "source": [
    "y_train = to_one_hot(train_label)\n",
    "y_test = to_one_hot(test_label)"
   ]
  },
  {
   "cell_type": "code",
   "execution_count": 33,
   "metadata": {},
   "outputs": [
    {
     "name": "stdout",
     "output_type": "stream",
     "text": [
      "(8982, 46)\n"
     ]
    }
   ],
   "source": [
    "one_hot_train_labels = to_categorical(train_label)\n",
    "one_hot_test_labels = to_categorical(test_label)\n",
    "print(one_hot_train_labels.shape)"
   ]
  },
  {
   "cell_type": "code",
   "execution_count": 44,
   "metadata": {},
   "outputs": [],
   "source": [
    "model = models.Sequential()\n",
    "model.add(layers.Dense(64, activation='relu', input_shape=(10000,)))\n",
    "model.add(layers.Dense(64, activation='relu'))\n",
    "model.add(layers.Dense(46, activation='softmax'))"
   ]
  },
  {
   "cell_type": "code",
   "execution_count": 45,
   "metadata": {},
   "outputs": [],
   "source": [
    "model.compile(optimizer='rmsprop', loss='categorical_crossentropy', metrics=['accuracy'])\n"
   ]
  },
  {
   "cell_type": "code",
   "execution_count": 46,
   "metadata": {},
   "outputs": [],
   "source": [
    "x_val = x_train[:1000]\n",
    "partial_x_train = x_train[1000:]\n",
    "\n",
    "y_val = one_hot_train_labels[:1000]\n",
    "partial_y_train = one_hot_train_labels[1000:]"
   ]
  },
  {
   "cell_type": "code",
   "execution_count": 47,
   "metadata": {},
   "outputs": [
    {
     "name": "stdout",
     "output_type": "stream",
     "text": [
      "(1000, 10000)\n",
      "(7982, 10000)\n",
      "(1000, 46)\n",
      "(7982, 46)\n"
     ]
    }
   ],
   "source": [
    "print(x_val.shape)\n",
    "print(partial_x_train.shape)\n",
    "print(y_val.shape)\n",
    "print(partial_y_train.shape)"
   ]
  },
  {
   "cell_type": "code",
   "execution_count": 48,
   "metadata": {
    "scrolled": true
   },
   "outputs": [
    {
     "name": "stdout",
     "output_type": "stream",
     "text": [
      "Train on 7982 samples, validate on 1000 samples\n",
      "Epoch 1/9\n",
      "7982/7982 [==============================] - 2s 204us/step - loss: 3.0988 - acc: 0.4278 - val_loss: 2.2901 - val_acc: 0.5760\n",
      "Epoch 2/9\n",
      "7982/7982 [==============================] - 1s 141us/step - loss: 1.8783 - acc: 0.6398 - val_loss: 1.6518 - val_acc: 0.6560\n",
      "Epoch 3/9\n",
      "7982/7982 [==============================] - 1s 151us/step - loss: 1.3705 - acc: 0.7160 - val_loss: 1.3779 - val_acc: 0.7150\n",
      "Epoch 4/9\n",
      "7982/7982 [==============================] - 1s 139us/step - loss: 1.0946 - acc: 0.7666 - val_loss: 1.2179 - val_acc: 0.7410\n",
      "Epoch 5/9\n",
      "7982/7982 [==============================] - 1s 141us/step - loss: 0.9089 - acc: 0.8062 - val_loss: 1.1249 - val_acc: 0.7640\n",
      "Epoch 6/9\n",
      "7982/7982 [==============================] - 1s 152us/step - loss: 0.7602 - acc: 0.8434 - val_loss: 1.0445 - val_acc: 0.7940\n",
      "Epoch 7/9\n",
      "7982/7982 [==============================] - 1s 139us/step - loss: 0.6434 - acc: 0.8675 - val_loss: 0.9985 - val_acc: 0.8020\n",
      "Epoch 8/9\n",
      "7982/7982 [==============================] - 1s 139us/step - loss: 0.5510 - acc: 0.8899 - val_loss: 0.9612 - val_acc: 0.8050\n",
      "Epoch 9/9\n",
      "7982/7982 [==============================] - 1s 158us/step - loss: 0.4689 - acc: 0.9044 - val_loss: 0.9277 - val_acc: 0.8110\n"
     ]
    }
   ],
   "source": [
    "history = model.fit(partial_x_train,partial_y_train,epochs=9,batch_size=1000,validation_data=(x_val,y_val))"
   ]
  },
  {
   "cell_type": "code",
   "execution_count": 108,
   "metadata": {},
   "outputs": [
    {
     "name": "stdout",
     "output_type": "stream",
     "text": [
      "<class 'numpy.ndarray'>\n",
      "<class 'list'>\n",
      "9\n",
      "9\n"
     ]
    }
   ],
   "source": [
    "print(type(partial_x_train))\n",
    "loss = history.history['loss']\n",
    "val_loss = history.history['val_loss']\n",
    "epochs = range(1,len(loss) + 1)\n",
    "print(type(loss))\n",
    "print(len(loss))\n",
    "print(len(epochs))"
   ]
  },
  {
   "cell_type": "code",
   "execution_count": 50,
   "metadata": {},
   "outputs": [
    {
     "data": {
      "image/png": "[encoded data removed]",
      "text/plain": [
       "<Figure size 432x288 with 1 Axes>"
      ]
     },
     "metadata": {
      "needs_background": "light"
     },
     "output_type": "display_data"
    }
   ],
   "source": [
    "plt.plot(epochs, loss, 'r', label='Training loss')\n",
    "plt.plot(epochs, val_loss, 'b', label='Validation loss')\n",
    "plt.title('Training and validation loss')\n",
    "plt.xlabel('epochs')\n",
    "plt.ylabel('loss')\n",
    "plt.legend()\n",
    "plt.show()"
   ]
  },
  {
   "cell_type": "code",
   "execution_count": 51,
   "metadata": {},
   "outputs": [
    {
     "data": {
      "image/png": "[encoded data removed]",
      "text/plain": [
       "<Figure size 432x288 with 1 Axes>"
      ]
     },
     "metadata": {
      "needs_background": "light"
     },
     "output_type": "display_data"
    }
   ],
   "source": [
    "plt.clf()\n",
    "\n",
    "acc = history.history['acc']\n",
    "val_acc = history.history['val_acc']\n",
    "\n",
    "plt.plot(epochs, acc, 'b', label='Training acc')\n",
    "plt.plot(epochs, val_loss, 'r', label='validation acc')\n",
    "plt.xlabel('epochs')\n",
    "plt.ylabel('acc')\n",
    "plt.legend()\n",
    "plt.show()"
   ]
  },
  {
   "cell_type": "code",
   "execution_count": 52,
   "metadata": {},
   "outputs": [
    {
     "name": "stdout",
     "output_type": "stream",
     "text": [
      "2246/2246 [==============================] - 0s 143us/step\n"
     ]
    }
   ],
   "source": [
    "results = model.evaluate(x_test, one_hot_test_labels)"
   ]
  },
  {
   "cell_type": "code",
   "execution_count": 53,
   "metadata": {},
   "outputs": [
    {
     "name": "stdout",
     "output_type": "stream",
     "text": [
      "[1.0102305473860946, 0.7853962600708857]\n",
      "<class 'list'>\n"
     ]
    }
   ],
   "source": [
    "print(results)\n",
    "print(type(results))"
   ]
  },
  {
   "cell_type": "code",
   "execution_count": 70,
   "metadata": {},
   "outputs": [
    {
     "name": "stdout",
     "output_type": "stream",
     "text": [
      "[ 3 10  1 ...  3  3 24]\n",
      "[ 4  3 30 ...  3  4 26]\n",
      "[False False False ...  True False False]\n"
     ]
    },
    {
     "data": {
      "text/plain": [
       "0.1834372217275156"
      ]
     },
     "execution_count": 70,
     "metadata": {},
     "output_type": "execute_result"
    }
   ],
   "source": [
    "test_labels_copy = copy.copy(test_label)\n",
    "print((test_labels_copy))\n",
    "np.random.shuffle(test_labels_copy)\n",
    "print(test_labels_copy)\n",
    "hits_array = np.array(test_label) == np.array(test_labels_copy)\n",
    "print(hits_array)\n",
    "float(np.sum(hits_array)) / len(test_label)"
   ]
  },
  {
   "cell_type": "code",
   "execution_count": 103,
   "metadata": {},
   "outputs": [
    {
     "name": "stdout",
     "output_type": "stream",
     "text": [
      "[0. 1. 1. ... 0. 0. 0.]\n",
      "(2246, 46)\n",
      "46\n",
      "[0, 1, 2, 3, 4, 5, 6, 7, 8, 9, 10, 11, 12, 13, 14, 15, 16, 17, 18, 19, 20, 21, 22, 23, 24, 25, 26, 27, 28, 29, 30, 31, 32, 33, 34, 35, 36, 37, 38, 39, 40, 41, 42, 43, 44, 45]\n"
     ]
    }
   ],
   "source": [
    "print(x_test[0])\n",
    "predictions = model.predict(x_test)\n",
    "print(predictions.shape)\n",
    "l=[]\n",
    "print(len(predictions[0]))\n",
    "\n",
    "for i in range(len(predictions[0])):\n",
    "    l.append(i)\n",
    "\n",
    "print(l)\n",
    "\n"
   ]
  },
  {
   "cell_type": "code",
   "execution_count": 107,
   "metadata": {},
   "outputs": [
    {
     "data": {
      "image/png": "[encoded data removed]",
      "text/plain": [
       "<Figure size 432x288 with 1 Axes>"
      ]
     },
     "metadata": {
      "needs_background": "light"
     },
     "output_type": "display_data"
    }
   ],
   "source": [
    "\n",
    "plt.plot(l, predictions[0], 'b', label='distrabution')\n",
    "plt.xlabel('one')\n",
    "plt.ylabel('pre')\n",
    "plt.legend()\n",
    "plt.show()"
   ]
  },
  {
   "cell_type": "code",
   "execution_count": null,
   "metadata": {},
   "outputs": [],
   "source": []
  }
 ],
 "metadata": {
  "kernelspec": {
   "display_name": "Python 3",
   "language": "python",
   "name": "python3"
  },
  "language_info": {
   "codemirror_mode": {
    "name": "ipython",
    "version": 3
   },
   "file_extension": ".py",
   "mimetype": "text/x-python",
   "name": "python",
   "nbconvert_exporter": "python",
   "pygments_lexer": "ipython3",
   "version": "3.6.6"
  }
 },
 "nbformat": 4,
 "nbformat_minor": 2
}
