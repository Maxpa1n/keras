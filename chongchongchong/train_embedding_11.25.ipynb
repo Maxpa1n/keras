{
 "cells": [
  {
   "cell_type": "code",
   "execution_count": 1,
   "metadata": {},
   "outputs": [
    {
     "name": "stderr",
     "output_type": "stream",
     "text": [
      "Using TensorFlow backend.\n"
     ]
    }
   ],
   "source": [
    "from keras.layers import Embedding\n",
    "from keras.datasets import imdb\n",
    "from keras import preprocessing\n",
    "from keras.models import Sequential\n",
    "from keras.layers import Flatten, Dense, Embedding\n",
    "max_features = 10000\n",
    "maxlen = 20"
   ]
  },
  {
   "cell_type": "code",
   "execution_count": 2,
   "metadata": {},
   "outputs": [],
   "source": [
    "embedding_layer = Embedding(1000, 64)"
   ]
  },
  {
   "cell_type": "code",
   "execution_count": 3,
   "metadata": {},
   "outputs": [],
   "source": [
    "(x_train, y_train), (x_test, y_test) = imdb.load_data(num_words=max_features)"
   ]
  },
  {
   "cell_type": "code",
   "execution_count": 4,
   "metadata": {},
   "outputs": [
    {
     "name": "stdout",
     "output_type": "stream",
     "text": [
      "(25000,)\n",
      "(25000,)\n",
      "189\n",
      "141\n",
      "[1, 194, 1153, 194, 8255, 78, 228, 5, 6, 1463, 4369, 5012, 134, 26, 4, 715, 8, 118, 1634, 14, 394, 20, 13, 119, 954, 189, 102, 5, 207, 110, 3103, 21, 14, 69, 188, 8, 30, 23, 7, 4, 249, 126, 93, 4, 114, 9, 2300, 1523, 5, 647, 4, 116, 9, 35, 8163, 4, 229, 9, 340, 1322, 4, 118, 9, 4, 130, 4901, 19, 4, 1002, 5, 89, 29, 952, 46, 37, 4, 455, 9, 45, 43, 38, 1543, 1905, 398, 4, 1649, 26, 6853, 5, 163, 11, 3215, 2, 4, 1153, 9, 194, 775, 7, 8255, 2, 349, 2637, 148, 605, 2, 8003, 15, 123, 125, 68, 2, 6853, 15, 349, 165, 4362, 98, 5, 4, 228, 9, 43, 2, 1157, 15, 299, 120, 5, 120, 174, 11, 220, 175, 136, 50, 9, 4373, 228, 8255, 5, 2, 656, 245, 2350, 5, 4, 9837, 131, 152, 491, 18, 2, 32, 7464, 1212, 14, 9, 6, 371, 78, 22, 625, 64, 1382, 9, 8, 168, 145, 23, 4, 1690, 15, 16, 4, 1355, 5, 28, 6, 52, 154, 462, 33, 89, 78, 285, 16, 145, 95]\n"
     ]
    }
   ],
   "source": [
    "print(x_train.shape)\n",
    "print(x_test.shape)\n",
    "print(len(x_train[1]))\n",
    "print(len(x_train[2]))\n",
    "print(x_train[1])"
   ]
  },
  {
   "cell_type": "code",
   "execution_count": 5,
   "metadata": {},
   "outputs": [],
   "source": [
    "x_train_p = preprocessing.sequence.pad_sequences(x_train, maxlen=maxlen)\n",
    "x_test_P = preprocessing.sequence.pad_sequences(x_test, maxlen=maxlen)"
   ]
  },
  {
   "cell_type": "code",
   "execution_count": 6,
   "metadata": {},
   "outputs": [
    {
     "name": "stdout",
     "output_type": "stream",
     "text": [
      "(25000, 20)\n",
      "(25000, 20)\n",
      "[  10   10  472   45   55  878    8  169   11  374 5687   25  203   28\n",
      "    8  818   12  125    4 3077]\n"
     ]
    }
   ],
   "source": [
    "print(x_train_p.shape)\n",
    "print(x_test_P.shape)\n",
    "print(x_test_P[1])"
   ]
  },
  {
   "cell_type": "code",
   "execution_count": 17,
   "metadata": {},
   "outputs": [],
   "source": [
    "model = Sequential()"
   ]
  },
  {
   "cell_type": "markdown",
   "metadata": {},
   "source": []
  },
  {
   "cell_type": "code",
   "execution_count": 18,
   "metadata": {},
   "outputs": [],
   "source": [
    "model.add(Embedding(10000, 8, input_length=maxlen))"
   ]
  },
  {
   "cell_type": "code",
   "execution_count": 19,
   "metadata": {},
   "outputs": [],
   "source": [
    "model.add(Flatten())"
   ]
  },
  {
   "cell_type": "code",
   "execution_count": 20,
   "metadata": {},
   "outputs": [],
   "source": [
    "model.add(Dense(1, activation='sigmoid'))"
   ]
  },
  {
   "cell_type": "code",
   "execution_count": 21,
   "metadata": {},
   "outputs": [],
   "source": [
    "model.compile(optimizer='rmsprop', loss='binary_crossentropy', metrics=['acc'])"
   ]
  },
  {
   "cell_type": "code",
   "execution_count": 22,
   "metadata": {
    "scrolled": false
   },
   "outputs": [
    {
     "name": "stdout",
     "output_type": "stream",
     "text": [
      "_________________________________________________________________\n",
      "Layer (type)                 Output Shape              Param #   \n",
      "=================================================================\n",
      "embedding_3 (Embedding)      (None, 20, 8)             80000     \n",
      "_________________________________________________________________\n",
      "flatten_2 (Flatten)          (None, 160)               0         \n",
      "_________________________________________________________________\n",
      "dense_2 (Dense)              (None, 1)                 161       \n",
      "=================================================================\n",
      "Total params: 80,161\n",
      "Trainable params: 80,161\n",
      "Non-trainable params: 0\n",
      "_________________________________________________________________\n"
     ]
    }
   ],
   "source": [
    "model.summary()"
   ]
  },
  {
   "cell_type": "code",
   "execution_count": 23,
   "metadata": {
    "scrolled": true
   },
   "outputs": [
    {
     "name": "stdout",
     "output_type": "stream",
     "text": [
      "Train on 20000 samples, validate on 5000 samples\n",
      "Epoch 1/15\n",
      "20000/20000 [==============================] - 1s 69us/step - loss: 0.6714 - acc: 0.6169 - val_loss: 0.6235 - val_acc: 0.6858\n",
      "Epoch 2/15\n",
      "20000/20000 [==============================] - 1s 66us/step - loss: 0.5449 - acc: 0.7498 - val_loss: 0.5268 - val_acc: 0.7292\n",
      "Epoch 3/15\n",
      "20000/20000 [==============================] - 1s 56us/step - loss: 0.4626 - acc: 0.7869 - val_loss: 0.5008 - val_acc: 0.7488\n",
      "Epoch 4/15\n",
      "20000/20000 [==============================] - 1s 58us/step - loss: 0.4241 - acc: 0.8079 - val_loss: 0.4932 - val_acc: 0.7546\n",
      "Epoch 5/15\n",
      "20000/20000 [==============================] - 1s 67us/step - loss: 0.3983 - acc: 0.8208 - val_loss: 0.4951 - val_acc: 0.7552\n",
      "Epoch 6/15\n",
      "20000/20000 [==============================] - 1s 59us/step - loss: 0.3774 - acc: 0.8326 - val_loss: 0.4987 - val_acc: 0.7564\n",
      "Epoch 7/15\n",
      "20000/20000 [==============================] - 1s 59us/step - loss: 0.3584 - acc: 0.8445 - val_loss: 0.5018 - val_acc: 0.7566\n",
      "Epoch 8/15\n",
      "20000/20000 [==============================] - 1s 64us/step - loss: 0.3408 - acc: 0.8538 - val_loss: 0.5079 - val_acc: 0.7538\n",
      "Epoch 9/15\n",
      "20000/20000 [==============================] - 1s 64us/step - loss: 0.3233 - acc: 0.8633 - val_loss: 0.5154 - val_acc: 0.7500\n",
      "Epoch 10/15\n",
      "20000/20000 [==============================] - 1s 69us/step - loss: 0.3061 - acc: 0.8735 - val_loss: 0.5223 - val_acc: 0.7528\n",
      "Epoch 11/15\n",
      "20000/20000 [==============================] - 1s 64us/step - loss: 0.2894 - acc: 0.8821 - val_loss: 0.5310 - val_acc: 0.7506\n",
      "Epoch 12/15\n",
      "20000/20000 [==============================] - 1s 66us/step - loss: 0.2737 - acc: 0.8906 - val_loss: 0.5390 - val_acc: 0.7476\n",
      "Epoch 13/15\n",
      "20000/20000 [==============================] - 1s 65us/step - loss: 0.2587 - acc: 0.8976 - val_loss: 0.5507 - val_acc: 0.7436\n",
      "Epoch 14/15\n",
      "20000/20000 [==============================] - 1s 65us/step - loss: 0.2441 - acc: 0.9057 - val_loss: 0.5592 - val_acc: 0.7432\n",
      "Epoch 15/15\n",
      "20000/20000 [==============================] - 1s 63us/step - loss: 0.2306 - acc: 0.9125 - val_loss: 0.5706 - val_acc: 0.7444\n"
     ]
    }
   ],
   "source": [
    "history = model.fit(x_train_p,y_train,epochs=15,batch_size=32,validation_split=0.2)"
   ]
  },
  {
   "cell_type": "code",
   "execution_count": 26,
   "metadata": {},
   "outputs": [],
   "source": [
    "a = model.predict(x_test_P)"
   ]
  },
  {
   "cell_type": "code",
   "execution_count": 32,
   "metadata": {},
   "outputs": [
    {
     "name": "stdout",
     "output_type": "stream",
     "text": [
      "(25000, 1)\n",
      "[0.3806018]\n"
     ]
    }
   ],
   "source": [
    "print(a.shape)\n",
    "print(a[6])"
   ]
  },
  {
   "cell_type": "code",
   "execution_count": null,
   "metadata": {},
   "outputs": [],
   "source": []
  },
  {
   "cell_type": "code",
   "execution_count": null,
   "metadata": {},
   "outputs": [],
   "source": []
  },
  {
   "cell_type": "code",
   "execution_count": null,
   "metadata": {},
   "outputs": [],
   "source": []
  }
 ],
 "metadata": {
  "kernelspec": {
   "display_name": "Python 3",
   "language": "python",
   "name": "python3"
  },
  "language_info": {
   "codemirror_mode": {
    "name": "ipython",
    "version": 3
   },
   "file_extension": ".py",
   "mimetype": "text/x-python",
   "name": "python",
   "nbconvert_exporter": "python",
   "pygments_lexer": "ipython3",
   "version": "3.6.6"
  }
 },
 "nbformat": 4,
 "nbformat_minor": 2
}
