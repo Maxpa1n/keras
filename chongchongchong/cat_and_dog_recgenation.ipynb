{
 "cells": [
  {
   "cell_type": "code",
   "execution_count": 47,
   "metadata": {},
   "outputs": [],
   "source": [
    "from keras import layers\n",
    "from keras import models\n",
    "from keras import optimizers\n",
    "from keras.preprocessing.image import ImageDataGenerator\n",
    "from matplotlib import pyplot as plt\n",
    "import h5py\n",
    "import matplotlib.pyplot as plt"
   ]
  },
  {
   "cell_type": "code",
   "execution_count": 2,
   "metadata": {},
   "outputs": [
    {
     "name": "stdout",
     "output_type": "stream",
     "text": [
      "_________________________________________________________________\n",
      "Layer (type)                 Output Shape              Param #   \n",
      "=================================================================\n",
      "conv2d_1 (Conv2D)            (None, 148, 148, 32)      896       \n",
      "_________________________________________________________________\n",
      "max_pooling2d_1 (MaxPooling2 (None, 74, 74, 32)        0         \n",
      "_________________________________________________________________\n",
      "conv2d_2 (Conv2D)            (None, 72, 72, 64)        18496     \n",
      "_________________________________________________________________\n",
      "max_pooling2d_2 (MaxPooling2 (None, 36, 36, 64)        0         \n",
      "_________________________________________________________________\n",
      "conv2d_3 (Conv2D)            (None, 34, 34, 128)       73856     \n",
      "_________________________________________________________________\n",
      "max_pooling2d_3 (MaxPooling2 (None, 17, 17, 128)       0         \n",
      "_________________________________________________________________\n",
      "conv2d_4 (Conv2D)            (None, 15, 15, 128)       147584    \n",
      "_________________________________________________________________\n",
      "max_pooling2d_4 (MaxPooling2 (None, 7, 7, 128)         0         \n",
      "_________________________________________________________________\n",
      "flatten_1 (Flatten)          (None, 6272)              0         \n",
      "_________________________________________________________________\n",
      "dense_1 (Dense)              (None, 512)               3211776   \n",
      "_________________________________________________________________\n",
      "dense_2 (Dense)              (None, 1)                 513       \n",
      "=================================================================\n",
      "Total params: 3,453,121\n",
      "Trainable params: 3,453,121\n",
      "Non-trainable params: 0\n",
      "_________________________________________________________________\n"
     ]
    }
   ],
   "source": [
    "model = models.Sequential()\n",
    "model.add(layers.Conv2D(32, (3,3), activation='relu',input_shape=(150,150,3)))#896=3*3*32*3+32\n",
    "model.add(layers.MaxPool2D((2,2)))\n",
    "model.add(layers.Conv2D(64 ,(3,3), activation='relu'))#18496=3*3*64*32+64\n",
    "model.add(layers.MaxPool2D((2,2,)))\n",
    "model.add(layers.Conv2D(128,  (3,3),activation='relu'))#73856=3*3*128*64+128\n",
    "model.add(layers.MaxPool2D((2,2)))\n",
    "model.add(layers.Conv2D(128, (3,3),activation='relu'))\n",
    "model.add(layers.MaxPool2D((2,2)))\n",
    "model.add(layers.Flatten())#6272\n",
    "model.add(layers.Dense(512, activation='relu'))#6272*512\n",
    "model.add(layers.Dense(1, activation='sigmoid'))\n",
    "model.summary()"
   ]
  },
  {
   "cell_type": "code",
   "execution_count": 5,
   "metadata": {},
   "outputs": [],
   "source": [
    "model.compile(loss='binary_crossentropy',optimizer=optimizers.RMSprop(lr=1e-4),metrics=['acc'])"
   ]
  },
  {
   "cell_type": "code",
   "execution_count": 69,
   "metadata": {},
   "outputs": [
    {
     "name": "stdout",
     "output_type": "stream",
     "text": [
      "Found 2000 images belonging to 2 classes.\n",
      "Found 1000 images belonging to 2 classes.\n",
      "Found 1000 images belonging to 2 classes.\n"
     ]
    }
   ],
   "source": [
    "train_datagen = ImageDataGenerator(rescale=1./255)\n",
    "test_datagen = ImageDataGenerator(rescale=1./255)\n",
    "\n",
    "train_gennerator = train_datagen.flow_from_directory(\n",
    "        '/home/a/Downloads/cats_and_dogs_small/train',\n",
    "        target_size=(150,150),\n",
    "        batch_size=20,\n",
    "        class_mode='binary')\n",
    "\n",
    "validation_gennerator = train_datagen.flow_from_directory(\n",
    "        '/home/a/Downloads/cats_and_dogs_small/validation',\n",
    "        target_size=(150,150),\n",
    "        batch_size=20,\n",
    "        class_mode='binary')\n",
    "\n",
    "test_gennerator = test_datagen.flow_from_directory('/home/a/Downloads/cats_and_dogs_small/test',\n",
    "                                                  target_size=(150,150),\n",
    "                                                    batch_size=20,class_mode='binary')"
   ]
  },
  {
   "cell_type": "code",
   "execution_count": 67,
   "metadata": {},
   "outputs": [
    {
     "name": "stdout",
     "output_type": "stream",
     "text": [
      "(20, 150, 150, 3)\n"
     ]
    }
   ],
   "source": [
    "# # print(train_gennerator[0][0][0])\n",
    "# print(type(train_gennerator))\n",
    "# print(type(train_gennerator[0][0]))\n",
    "# print(train_gennerator[0][0].shape)\n",
    "# print(train_gennerator[0][0][0].reshape((450,150)))\n",
    "\n",
    "print(test_gennerator[0][0].shape)"
   ]
  },
  {
   "cell_type": "code",
   "execution_count": 1,
   "metadata": {},
   "outputs": [
    {
     "ename": "NameError",
     "evalue": "name 'plt' is not defined",
     "output_type": "error",
     "traceback": [
      "\u001b[0;31m---------------------------------------------------------------------------\u001b[0m",
      "\u001b[0;31mNameError\u001b[0m                                 Traceback (most recent call last)",
      "\u001b[0;32m<ipython-input-1-c872825e8395>\u001b[0m in \u001b[0;36m<module>\u001b[0;34m\u001b[0m\n\u001b[0;32m----> 1\u001b[0;31m \u001b[0mplt\u001b[0m\u001b[0;34m.\u001b[0m\u001b[0mimshow\u001b[0m\u001b[0;34m(\u001b[0m\u001b[0mtrain_gennerator\u001b[0m\u001b[0;34m[\u001b[0m\u001b[0;36m0\u001b[0m\u001b[0;34m]\u001b[0m\u001b[0;34m[\u001b[0m\u001b[0;36m0\u001b[0m\u001b[0;34m]\u001b[0m\u001b[0;34m[\u001b[0m\u001b[0;36m0\u001b[0m\u001b[0;34m,\u001b[0m\u001b[0;34m:\u001b[0m\u001b[0;34m,\u001b[0m\u001b[0;34m:\u001b[0m\u001b[0;34m,\u001b[0m\u001b[0;36m0\u001b[0m\u001b[0;34m]\u001b[0m\u001b[0;34m.\u001b[0m\u001b[0mreshape\u001b[0m\u001b[0;34m(\u001b[0m\u001b[0;34m(\u001b[0m\u001b[0;36m450\u001b[0m\u001b[0;34m,\u001b[0m\u001b[0;36m150\u001b[0m\u001b[0;34m)\u001b[0m\u001b[0;34m)\u001b[0m\u001b[0;34m,\u001b[0m\u001b[0mcmap\u001b[0m\u001b[0;34m=\u001b[0m\u001b[0mplt\u001b[0m\u001b[0;34m.\u001b[0m\u001b[0mcm\u001b[0m\u001b[0;34m.\u001b[0m\u001b[0mbinary\u001b[0m\u001b[0;34m)\u001b[0m\u001b[0;34m\u001b[0m\u001b[0m\n\u001b[0m",
      "\u001b[0;31mNameError\u001b[0m: name 'plt' is not defined"
     ]
    }
   ],
   "source": [
    "plt.imshow(train_gennerator[0][0][0,:,:,0].reshape((450,150)),cmap=plt.cm.binary)\n"
   ]
  },
  {
   "cell_type": "code",
   "execution_count": 58,
   "metadata": {
    "scrolled": true
   },
   "outputs": [
    {
     "name": "stdout",
     "output_type": "stream",
     "text": [
      "Epoch 1/30\n",
      "100/100 [==============================] - 101s 1s/step - loss: 0.6500 - acc: 0.6105 - val_loss: 0.6537 - val_acc: 0.5810\n",
      "Epoch 2/30\n",
      "100/100 [==============================] - 97s 968ms/step - loss: 0.6166 - acc: 0.6595 - val_loss: 0.6549 - val_acc: 0.6120\n",
      "Epoch 3/30\n",
      "100/100 [==============================] - 97s 966ms/step - loss: 0.5754 - acc: 0.6895 - val_loss: 0.5940 - val_acc: 0.6780\n",
      "Epoch 4/30\n",
      "100/100 [==============================] - 97s 969ms/step - loss: 0.5403 - acc: 0.7325 - val_loss: 0.5792 - val_acc: 0.6960\n",
      "Epoch 5/30\n",
      "100/100 [==============================] - 95s 954ms/step - loss: 0.5081 - acc: 0.7435 - val_loss: 0.6183 - val_acc: 0.6720\n",
      "Epoch 6/30\n",
      "100/100 [==============================] - 96s 955ms/step - loss: 0.4780 - acc: 0.7660 - val_loss: 0.5863 - val_acc: 0.6960\n",
      "Epoch 7/30\n",
      "100/100 [==============================] - 103s 1s/step - loss: 0.4536 - acc: 0.7910 - val_loss: 0.6213 - val_acc: 0.6580\n",
      "Epoch 8/30\n",
      "100/100 [==============================] - 103s 1s/step - loss: 0.4291 - acc: 0.8035 - val_loss: 0.5749 - val_acc: 0.7090\n",
      "Epoch 9/30\n",
      "100/100 [==============================] - 98s 984ms/step - loss: 0.4034 - acc: 0.8205 - val_loss: 0.5891 - val_acc: 0.7180\n",
      "Epoch 10/30\n",
      "100/100 [==============================] - 99s 994ms/step - loss: 0.3793 - acc: 0.8350 - val_loss: 0.5687 - val_acc: 0.7130\n",
      "Epoch 11/30\n",
      "100/100 [==============================] - 98s 984ms/step - loss: 0.3576 - acc: 0.8455 - val_loss: 0.5508 - val_acc: 0.7350\n",
      "Epoch 12/30\n",
      "100/100 [==============================] - 98s 980ms/step - loss: 0.3273 - acc: 0.8520 - val_loss: 0.5756 - val_acc: 0.7220\n",
      "Epoch 13/30\n",
      "100/100 [==============================] - 98s 983ms/step - loss: 0.3087 - acc: 0.8670 - val_loss: 0.5744 - val_acc: 0.7270\n",
      "Epoch 14/30\n",
      "100/100 [==============================] - 101s 1s/step - loss: 0.2779 - acc: 0.8815 - val_loss: 0.6234 - val_acc: 0.7230\n",
      "Epoch 15/30\n",
      "100/100 [==============================] - 105s 1s/step - loss: 0.2514 - acc: 0.8980 - val_loss: 0.6841 - val_acc: 0.7170\n",
      "Epoch 16/30\n",
      "100/100 [==============================] - 100s 1s/step - loss: 0.2363 - acc: 0.9090 - val_loss: 0.6058 - val_acc: 0.7350\n",
      "Epoch 17/30\n",
      "100/100 [==============================] - 100s 1s/step - loss: 0.2080 - acc: 0.9140 - val_loss: 0.6231 - val_acc: 0.7410\n",
      "Epoch 18/30\n",
      "100/100 [==============================] - 102s 1s/step - loss: 0.1927 - acc: 0.9295 - val_loss: 0.7641 - val_acc: 0.7090\n",
      "Epoch 19/30\n",
      "100/100 [==============================] - 100s 997ms/step - loss: 0.1646 - acc: 0.9390 - val_loss: 0.7172 - val_acc: 0.7290\n",
      "Epoch 20/30\n",
      "100/100 [==============================] - 102s 1s/step - loss: 0.1482 - acc: 0.9465 - val_loss: 0.7166 - val_acc: 0.7270\n",
      "Epoch 21/30\n",
      "100/100 [==============================] - 100s 996ms/step - loss: 0.1277 - acc: 0.9560 - val_loss: 0.7187 - val_acc: 0.7380\n",
      "Epoch 22/30\n",
      "100/100 [==============================] - 101s 1s/step - loss: 0.1148 - acc: 0.9615 - val_loss: 0.7522 - val_acc: 0.7220\n",
      "Epoch 23/30\n",
      "100/100 [==============================] - 100s 998ms/step - loss: 0.0934 - acc: 0.9710 - val_loss: 0.8965 - val_acc: 0.7200\n",
      "Epoch 24/30\n",
      "100/100 [==============================] - 99s 989ms/step - loss: 0.0803 - acc: 0.9775 - val_loss: 0.8742 - val_acc: 0.7430\n",
      "Epoch 25/30\n",
      "100/100 [==============================] - 104s 1s/step - loss: 0.0697 - acc: 0.9810 - val_loss: 1.1681 - val_acc: 0.6880\n",
      "Epoch 26/30\n",
      "100/100 [==============================] - 102s 1s/step - loss: 0.0617 - acc: 0.9810 - val_loss: 0.9011 - val_acc: 0.7310\n",
      "Epoch 27/30\n",
      "100/100 [==============================] - 102s 1s/step - loss: 0.0510 - acc: 0.9855 - val_loss: 1.5566 - val_acc: 0.6500\n",
      "Epoch 28/30\n",
      "100/100 [==============================] - 104s 1s/step - loss: 0.0477 - acc: 0.9900 - val_loss: 0.9935 - val_acc: 0.7310\n",
      "Epoch 29/30\n",
      "100/100 [==============================] - 100s 1s/step - loss: 0.0425 - acc: 0.9875 - val_loss: 1.0623 - val_acc: 0.7250\n",
      "Epoch 30/30\n",
      "100/100 [==============================] - 106s 1s/step - loss: 0.0332 - acc: 0.9910 - val_loss: 1.1150 - val_acc: 0.7230\n"
     ]
    }
   ],
   "source": [
    "history = model.fit_generator(train_gennerator,steps_per_epoch=100,epochs=30, \n",
    "                              validation_data=validation_gennerator,\n",
    "                             validation_steps = 50)"
   ]
  },
  {
   "cell_type": "code",
   "execution_count": 59,
   "metadata": {},
   "outputs": [],
   "source": [
    "model.save('cats_and_dogs_small.h5')"
   ]
  },
  {
   "cell_type": "code",
   "execution_count": 72,
   "metadata": {},
   "outputs": [],
   "source": [
    "# prediction = model.predict()\n",
    "test_loss,test_acc = model.evaluate_generator(test_gennerator)"
   ]
  },
  {
   "cell_type": "code",
   "execution_count": 73,
   "metadata": {},
   "outputs": [
    {
     "name": "stdout",
     "output_type": "stream",
     "text": [
      "1.1036379742622375 0.6969999980926513\n"
     ]
    }
   ],
   "source": [
    "print(test_loss,test_acc)"
   ]
  },
  {
   "cell_type": "code",
   "execution_count": 75,
   "metadata": {},
   "outputs": [],
   "source": [
    "acc = history.history['acc']\n",
    "val_acc = history.history['val_acc']\n",
    "loss = history.history['loss']\n",
    "val_loss = history.history['val_loss']\n",
    "\n",
    "epochs = range(1,len(acc)+1)\n",
    "\n"
   ]
  },
  {
   "cell_type": "code",
   "execution_count": 77,
   "metadata": {},
   "outputs": [
    {
     "data": {
      "image/png": "[encoded data removed]",
      "text/plain": [
       "<Figure size 432x288 with 1 Axes>"
      ]
     },
     "metadata": {
      "needs_background": "light"
     },
     "output_type": "display_data"
    },
    {
     "data": {
      "image/png": "[encoded data removed]",
      "text/plain": [
       "<Figure size 432x288 with 1 Axes>"
      ]
     },
     "metadata": {
      "needs_background": "light"
     },
     "output_type": "display_data"
    }
   ],
   "source": [
    "plt.plot(epochs, acc,'bo', label='Training acc')\n",
    "plt.plot(epochs, val_acc,'b', label='validation acc')\n",
    "plt.title('training and validation acc')\n",
    "plt.xlabel('epochs')\n",
    "plt.ylabel('acc')\n",
    "plt.legend()\n",
    "\n",
    "plt.figure()\n",
    "\n",
    "plt.plot(epochs, loss,'bo', label='Training loss')\n",
    "plt.plot(epochs, val_loss,'b', label='validation loss')\n",
    "plt.title('training and validation loss')\n",
    "plt.xlabel('epochs')\n",
    "plt.ylabel('loss')\n",
    "plt.legend()\n",
    "\n",
    "plt.show()\n"
   ]
  },
  {
   "cell_type": "code",
   "execution_count": null,
   "metadata": {},
   "outputs": [],
   "source": []
  },
  {
   "cell_type": "code",
   "execution_count": null,
   "metadata": {},
   "outputs": [],
   "source": []
  },
  {
   "cell_type": "code",
   "execution_count": null,
   "metadata": {},
   "outputs": [],
   "source": []
  },
  {
   "cell_type": "code",
   "execution_count": null,
   "metadata": {},
   "outputs": [],
   "source": []
  },
  {
   "cell_type": "code",
   "execution_count": null,
   "metadata": {},
   "outputs": [],
   "source": []
  }
 ],
 "metadata": {
  "kernelspec": {
   "display_name": "Python 3",
   "language": "python",
   "name": "python3"
  },
  "language_info": {
   "codemirror_mode": {
    "name": "ipython",
    "version": 3
   },
   "file_extension": ".py",
   "mimetype": "text/x-python",
   "name": "python",
   "nbconvert_exporter": "python",
   "pygments_lexer": "ipython3",
   "version": "3.6.6"
  }
 },
 "nbformat": 4,
 "nbformat_minor": 2
}
