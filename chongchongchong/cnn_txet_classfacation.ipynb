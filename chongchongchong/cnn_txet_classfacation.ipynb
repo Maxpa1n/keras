{
 "cells": [
  {
   "cell_type": "code",
   "execution_count": 21,
   "metadata": {},
   "outputs": [],
   "source": [
    "from keras.datasets import imdb\n",
    "from keras.preprocessing import sequence\n",
    "from keras.models import Sequential\n",
    "from keras import layers\n",
    "from keras.optimizers import RMSprop\n",
    "import matplotlib.pyplot as plt"
   ]
  },
  {
   "cell_type": "code",
   "execution_count": 4,
   "metadata": {},
   "outputs": [],
   "source": [
    "max_features = 10000\n",
    "max_len = 500"
   ]
  },
  {
   "cell_type": "code",
   "execution_count": 5,
   "metadata": {},
   "outputs": [],
   "source": [
    "(x_train, y_train),(x_test, y_test) = imdb.load_data(num_words=max_features)"
   ]
  },
  {
   "cell_type": "code",
   "execution_count": 6,
   "metadata": {},
   "outputs": [],
   "source": [
    "x_train = sequence.pad_sequences(x_train, maxlen=max_len)\n",
    "x_test = sequence.pad_sequences(x_test, maxlen=max_len)"
   ]
  },
  {
   "cell_type": "code",
   "execution_count": 11,
   "metadata": {
    "collapsed": true
   },
   "outputs": [
    {
     "name": "stdout",
     "output_type": "stream",
     "text": [
      "(25000, 500)\n",
      "[  65    9   82  283    8  113   48   64   12   16 1391    6  117  128\n",
      "   13  421   15    4   53 2428  537   11   14    2 8734   71  579   39\n",
      "    4  915  213    7  650   63    9  478   21   12  961  180    4  921\n",
      "    2    7  134  537   88    4  668  105    2    2    5    2    2   11\n",
      "  843   28   32    4 1137    7    6  320 1061 4548    2  286   14   22\n",
      "  424    8   30   44    2  275    2  150    4  156  308 5022  131  738\n",
      "    8  850  116  137    2    2    9    2    5 3308   17  126 6301 4029\n",
      "  214    6  217  398   43   18   90   21  518    2    4 3262    7   27\n",
      "  109  237   59  161   79    6    2  109    8 1975    2    2 1077   41\n",
      " 1220 1826    5 1249  116  405    8 1108   56   18   12    2    2    9\n",
      "  478  466  170    6    2  120    4  350   11    6  171  139    2    2\n",
      "   47  164   76    8   81   21   59  127 3027  178   15  442    4  172\n",
      "  250   37  770  178   19   41    2  239   11    2 7767  497    8   97\n",
      "   56   18   15  666 1323  446    2    2    5 2880    8    6 1058 2826\n",
      "   10   10   15  961   72    4   91 2227 1406    7    4   22   63    2\n",
      "  630   56    2    4 7526  268   58 6463 4698    5    2    2    4 1406\n",
      "    9 2227 1424   88    7   98   21   13  215 1109   98   18   68    2\n",
      "  507 4152   78   32  143    4   22    2  100   73   30    4  375 1652\n",
      "    7    2   13   92  818    4  595   15   41  217   15    7   35    2\n",
      "    2 2594   41    8  511  120    4  350 1843  144  376   41    4 1474\n",
      "  200  112 9081   88    4  109 3898   12    5 2612    2   48  874  110\n",
      "    2    2   37  186    8   30    4 2867  496   14  217   11   41 3019\n",
      "    5    2 1410  490  124   51   13  384   13 2303  235   15   48    2\n",
      "    2   69  623    2    2   11   14  217  247   74    6 1963  323   40\n",
      "    2    4   65   62   28  952  128 6463    2 4980 1191    9   73 7863\n",
      "    2 6374    9  329    2   74    2   10   10    8   30 1257    8    4\n",
      "  167   29  127 1921    8  763   49   52 3667 2442    8    4   22   13\n",
      "  572  423    4  361    7 3180   17    4    2 1399   11    4 6301 4029\n",
      "    2    2   65   17    6 5074   18   68  357 2011    5    4 1927 2511\n",
      "   15  216   83    4   65   19    4 4791    7    4   85  255   21   80\n",
      "  259 2257    8 2565   68  313   11 8504 2279 5606    7 3180  198 3472\n",
      " 1360 7826   13   62  135   21   54    4   22 1129  220   18  470  634\n",
      "   12  220  764   40    4  167    9  269   99  254    8  202    4  311\n",
      "    6 3132    7   27    2   11   35 6292 6379 4226    7 8749  844   10\n",
      "   10  279    2    2  494  178    8  870   11    4 1716   18   17  196\n",
      "   17    9    2  614    2    2    2 3821    2 3821]\n"
     ]
    }
   ],
   "source": [
    "print(x_train.shape)\n",
    "print(x_train[23])"
   ]
  },
  {
   "cell_type": "code",
   "execution_count": 14,
   "metadata": {},
   "outputs": [],
   "source": [
    "model = Sequential()\n",
    "model.add(layers.Embedding(max_features, 128, input_length=max_len))\n",
    "model.add(layers.Conv1D(32,7,activation='relu'))\n",
    "model.add(layers.MaxPool1D(5))\n",
    "model.add(layers.Conv1D(32,7,activation='relu'))\n",
    "model.add(layers.GlobalMaxPooling1D())\n",
    "model.add(layers.Dense(1))"
   ]
  },
  {
   "cell_type": "code",
   "execution_count": 15,
   "metadata": {},
   "outputs": [
    {
     "name": "stdout",
     "output_type": "stream",
     "text": [
      "_________________________________________________________________\n",
      "Layer (type)                 Output Shape              Param #   \n",
      "=================================================================\n",
      "embedding_3 (Embedding)      (None, 500, 128)          1280000   \n",
      "_________________________________________________________________\n",
      "conv1d_5 (Conv1D)            (None, 494, 32)           28704     \n",
      "_________________________________________________________________\n",
      "max_pooling1d_3 (MaxPooling1 (None, 98, 32)            0         \n",
      "_________________________________________________________________\n",
      "conv1d_6 (Conv1D)            (None, 92, 32)            7200      \n",
      "_________________________________________________________________\n",
      "global_max_pooling1d_2 (Glob (None, 32)                0         \n",
      "_________________________________________________________________\n",
      "dense_1 (Dense)              (None, 1)                 33        \n",
      "=================================================================\n",
      "Total params: 1,315,937\n",
      "Trainable params: 1,315,937\n",
      "Non-trainable params: 0\n",
      "_________________________________________________________________\n"
     ]
    }
   ],
   "source": [
    "model.summary()"
   ]
  },
  {
   "cell_type": "code",
   "execution_count": 16,
   "metadata": {},
   "outputs": [],
   "source": [
    "model.compile(optimizer=RMSprop(lr=1e-4),\n",
    "             loss = 'binary_crossentropy',\n",
    "             metrics = ['acc'])"
   ]
  },
  {
   "cell_type": "code",
   "execution_count": 17,
   "metadata": {},
   "outputs": [
    {
     "name": "stdout",
     "output_type": "stream",
     "text": [
      "Train on 20000 samples, validate on 5000 samples\n",
      "Epoch 1/10\n",
      "20000/20000 [==============================] - 50s 2ms/step - loss: 0.7290 - acc: 0.5259 - val_loss: 0.6841 - val_acc: 0.5768\n",
      "Epoch 2/10\n",
      "20000/20000 [==============================] - 49s 2ms/step - loss: 0.6636 - acc: 0.6792 - val_loss: 0.6660 - val_acc: 0.6044\n",
      "Epoch 3/10\n",
      "20000/20000 [==============================] - 48s 2ms/step - loss: 0.6189 - acc: 0.7758 - val_loss: 0.6082 - val_acc: 0.7468\n",
      "Epoch 4/10\n",
      "20000/20000 [==============================] - 48s 2ms/step - loss: 0.5237 - acc: 0.8173 - val_loss: 0.4883 - val_acc: 0.8014\n",
      "Epoch 5/10\n",
      "20000/20000 [==============================] - 49s 2ms/step - loss: 0.4042 - acc: 0.8505 - val_loss: 0.4163 - val_acc: 0.8316\n",
      "Epoch 6/10\n",
      "20000/20000 [==============================] - 46s 2ms/step - loss: 0.3387 - acc: 0.8688 - val_loss: 0.4265 - val_acc: 0.8246\n",
      "Epoch 7/10\n",
      "20000/20000 [==============================] - 6s 309us/step - loss: 0.2960 - acc: 0.8674 - val_loss: 0.3904 - val_acc: 0.8344\n",
      "Epoch 8/10\n",
      "20000/20000 [==============================] - 46s 2ms/step - loss: 0.2614 - acc: 0.8618 - val_loss: 0.4141 - val_acc: 0.8052\n",
      "Epoch 9/10\n",
      "20000/20000 [==============================] - 46s 2ms/step - loss: 0.2347 - acc: 0.8411 - val_loss: 0.4159 - val_acc: 0.7910\n",
      "Epoch 10/10\n",
      "20000/20000 [==============================] - 44s 2ms/step - loss: 0.2113 - acc: 0.8210 - val_loss: 0.4261 - val_acc: 0.7690\n"
     ]
    }
   ],
   "source": [
    "history = model.fit(x_train, y_train,epochs=10,batch_size=128,validation_split=0.2)"
   ]
  },
  {
   "cell_type": "code",
   "execution_count": 19,
   "metadata": {},
   "outputs": [],
   "source": [
    "acc = history.history['acc']\n",
    "loss = history.history['loss']\n",
    "val_acc = history.history['val_acc']\n",
    "val_loss = history.history['val_loss']"
   ]
  },
  {
   "cell_type": "code",
   "execution_count": 20,
   "metadata": {},
   "outputs": [],
   "source": [
    "epochs = range(1,len(acc) + 1)"
   ]
  },
  {
   "cell_type": "code",
   "execution_count": 24,
   "metadata": {},
   "outputs": [
    {
     "data": {
      "text/plain": [
       "[<matplotlib.lines.Line2D at 0x7f6be4fb1710>]"
      ]
     },
     "execution_count": 24,
     "metadata": {},
     "output_type": "execute_result"
    },
    {
     "data": {
      "image/png": "[encoded data removed]",
      "text/plain": [
       "<Figure size 432x288 with 1 Axes>"
      ]
     },
     "metadata": {
      "needs_background": "light"
     },
     "output_type": "display_data"
    }
   ],
   "source": [
    "plt.plot(epochs, acc,'b')\n",
    "plt.plot(epochs, val_acc,'r')"
   ]
  },
  {
   "cell_type": "code",
   "execution_count": 29,
   "metadata": {},
   "outputs": [
    {
     "name": "stdout",
     "output_type": "stream",
     "text": [
      "<class 'numpy.ndarray'>\n",
      "25000\n"
     ]
    }
   ],
   "source": [
    "print(type(x_train))\n",
    "print(len(x_train))"
   ]
  },
  {
   "cell_type": "code",
   "execution_count": null,
   "metadata": {},
   "outputs": [],
   "source": []
  }
 ],
 "metadata": {
  "kernelspec": {
   "display_name": "Python 3",
   "language": "python",
   "name": "python3"
  },
  "language_info": {
   "codemirror_mode": {
    "name": "ipython",
    "version": 3
   },
   "file_extension": ".py",
   "mimetype": "text/x-python",
   "name": "python",
   "nbconvert_exporter": "python",
   "pygments_lexer": "ipython3",
   "version": "3.6.6"
  }
 },
 "nbformat": 4,
 "nbformat_minor": 2
}
